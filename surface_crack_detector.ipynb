{
 "cells": [
  {
   "cell_type": "markdown",
   "id": "1430ec79-4ddc-4bfa-8547-df16755afb63",
   "metadata": {},
   "source": [
    "# Automatic Semantic Segmentation: Concrete Crack Detection\n",
    "\n",
    "## Introduction\n",
    "The aim of this notebook is to illustrate a simple method for automatic semantic segmentation applied to crack detection.\n",
    "\n",
    "To reach this goal, the following steps will be followed:\n",
    "- basic treatment of the surface crack dectection problem using:\n",
    "  - a Keras image classifier (optimized to this specific problem using fine-tuning), that is able to \"say\" if there are (or not) a crack on a picture \n",
    "  - some OpenCV morphological transformations, that are able to detect cracks and color them in red\n",
    "- creation of a new dataset {image, mask}, the images are those used to train the image classifier, the masks are trivially generated using the same OpenCV morphological transformations\n",
    "- using this dataset, it is possible to build a semantic segmentation tool:\n",
    "  - a Keras convolutional encoder-decoder (U-Net for this first version) is trained on this new dataset\n",
    "  - and then evaluated: _does it produce better masks than those produced with OpenCV?_\n",
    "- the process is iterated one time, in this part the 1st U-Net network for mask generation.\n",
    "\n",
    "## The notebooks\n",
    "\n",
    "The basic treatment of the surface crack dectection problem and the 1st mask generation are developped in the notebook: [Basic methods](./CIC_OpenCV.ipynb)\n",
    "\n",
    "The 1st round of semantic segmentation is developped in the notebook: [1st round](./U-Net_1st_round.ipynb).\n",
    "\n",
    "The 2nd round of semantic segmentation is developped in the notebook: [2nd round](./U-Net_2nd_round.ipynb).\n",
    "\n",
    "Last but not least, some of the different masks are compared in the notebook: [mask comparison](./mask_comparison.ipynb).\n",
    "\n",
    "## References:\n",
    "### Data sources\n",
    "- https://www.kaggle.com/datasets/arunrk7/surface-crack-detection\n",
    "- https://www.kaggle.com/datasets/motono0223/concrete-crack-segmentation-dataset\n",
    "\n",
    "### Code sources\n",
    "#### Keras\n",
    "- https://www.kaggle.com/code/paulopinheiro/surface-crack-detection-100-accuracy\n",
    "- https://github.com/konskyrt/Concrete-Crack-Detection-Segmentation/blob/main/Crack-recognition.ipynb\n",
    "- https://github.com/priya-dwivedi/Deep-Learning/blob/master/crack_detection/Crack%20Detection%20Model.ipynb\n",
    "\n",
    "<a id=\"OpenCV_cc\"></a>\n",
    "#### OpenCV\n",
    "- https://stackoverflow.com/questions/67865452/the-problem-of-using-opencv-to-do-crack-detection\n",
    "- https://stackoverflow.com/questions/57089115/background-texture-pattern-removal-before-crack-detection-with-opencv\n",
    "- https://stackoverflow.com/questions/75828319/opencv-connects-boundarys-of-image-with-detected-objects\n",
    "\n",
    "#### U-Net\n",
    "- https://www.kaggle.com/code/trishatomy/automatic-segmentation-of-stomach-and-intestines-o\n",
    "- https://www.kaggle.com/code/vuppalaadithyasairam/catheter-segmentation\n",
    "- https://www.kaggle.com/code/monkira/brain-mri-segmentation-using-unet-keras\n",
    "- https://www.kaggle.com/code/evgenyshtepin/severstal-mlcomp-catalyst-infer-0-90726\n",
    "- https://www.kaggle.com/code/samuelcortinhas/case-study-u-net-from-scratch\n",
    "- https://www.kaggle.com/code/abdallahwagih/brain-tumor-segmentation-unet-dice-coef-89-6\n",
    "- https://www.kaggle.com/code/vbookshelf/simple-cell-segmentation-with-keras-and-u-net"
   ]
  },
  {
   "cell_type": "code",
   "execution_count": null,
   "id": "cb881b95-98a6-44fb-ae2c-04e3fb9d29ec",
   "metadata": {},
   "outputs": [],
   "source": []
  }
 ],
 "metadata": {
  "kernelspec": {
   "display_name": "crack",
   "language": "python",
   "name": "crack"
  },
  "language_info": {
   "codemirror_mode": {
    "name": "ipython",
    "version": 3
   },
   "file_extension": ".py",
   "mimetype": "text/x-python",
   "name": "python",
   "nbconvert_exporter": "python",
   "pygments_lexer": "ipython3",
   "version": "3.9.16"
  }
 },
 "nbformat": 4,
 "nbformat_minor": 5
}
